{
  "nbformat": 4,
  "nbformat_minor": 0,
  "metadata": {
    "colab": {
      "name": "trabalho_pós.ipynb",
      "provenance": [],
      "collapsed_sections": []
    },
    "kernelspec": {
      "name": "python3",
      "display_name": "Python 3"
    },
    "language_info": {
      "name": "python"
    }
  },
  "cells": [
    {
      "cell_type": "markdown",
      "metadata": {
        "id": "PpH2XBMukUJI"
      },
      "source": [
        "## RELATÓRIO DE PROJETO: DISCIPLINAS DE PREPARAÇÃO E ANÁLISE DE DADOS E PROCESSAMENTO DE DADOS\n",
        "\n",
        "### Jessica Ilkiw Lopes\n",
        "### Marcelo Silva da Silva"
      ]
    },
    {
      "cell_type": "code",
      "metadata": {
        "colab": {
          "base_uri": "https://localhost:8080/"
        },
        "id": "hQX6ovItoIWq",
        "outputId": "e93eeb64-9159-49f1-8b32-a50d4b5c38a1"
      },
      "source": [
        "#scikit-learn: não possui técnicas específicas para desbalanceamento\n",
        "# imblearn (imbalanced-learn)\n",
        "!pip install imblearn"
      ],
      "execution_count": 1,
      "outputs": [
        {
          "output_type": "stream",
          "name": "stdout",
          "text": [
            "Requirement already satisfied: imblearn in /usr/local/lib/python3.7/dist-packages (0.0)\n",
            "Requirement already satisfied: imbalanced-learn in /usr/local/lib/python3.7/dist-packages (from imblearn) (0.4.3)\n",
            "Requirement already satisfied: numpy>=1.8.2 in /usr/local/lib/python3.7/dist-packages (from imbalanced-learn->imblearn) (1.19.5)\n",
            "Requirement already satisfied: scikit-learn>=0.20 in /usr/local/lib/python3.7/dist-packages (from imbalanced-learn->imblearn) (0.22.2.post1)\n",
            "Requirement already satisfied: scipy>=0.13.3 in /usr/local/lib/python3.7/dist-packages (from imbalanced-learn->imblearn) (1.4.1)\n",
            "Requirement already satisfied: joblib>=0.11 in /usr/local/lib/python3.7/dist-packages (from scikit-learn>=0.20->imbalanced-learn->imblearn) (1.0.1)\n"
          ]
        }
      ]
    },
    {
      "cell_type": "code",
      "metadata": {
        "id": "FWyGktb034EC"
      },
      "source": [
        "import pandas as pd\n",
        "import numpy as np\n",
        "import matplotlib.pyplot as plt\n",
        "import seaborn as sns\n",
        "from scipy import stats\n",
        "from sklearn.preprocessing import MaxAbsScaler\n",
        "from sklearn.model_selection import train_test_split\n",
        "from sklearn.neighbors import KNeighborsClassifier\n",
        "from sklearn.tree import DecisionTreeClassifier\n",
        "from sklearn.metrics import accuracy_score, classification_report\n",
        "from sklearn.metrics import confusion_matrix\n",
        "from sklearn.ensemble import RandomForestClassifier\n",
        "from sklearn.ensemble import AdaBoostClassifier\n",
        "from sklearn.linear_model import LogisticRegression\n",
        "from sklearn.preprocessing import LabelEncoder"
      ],
      "execution_count": 2,
      "outputs": []
    },
    {
      "cell_type": "markdown",
      "metadata": {
        "id": "HjNbH_TjjiWu"
      },
      "source": [
        "1) Descrição da Base de Dados:\n",
        "\n",
        "* Indicar o nome da base;\n",
        "        R: Dados de câncer de mama (Breast Cancer)\n"
      ]
    },
    {
      "cell_type": "markdown",
      "metadata": {
        "id": "B814cPaK5ixs"
      },
      "source": [
        "\n",
        "* Que tipo de dado (ou problema) caracteriza esta base de dados, ou seja, o que se pretende extrair de conhecimento a partir dos dados lá disponíveis\n",
        "(classificação/regressão, agrupamento, associação, por exemplo); \n",
        "        R: Algoritmo para prever a recorrência do câncer de mama, do tipo classificação"
      ]
    },
    {
      "cell_type": "markdown",
      "metadata": {
        "id": "gjYEvgRM5sOh"
      },
      "source": [
        "* Indicar quem forneceu esta base, além da data da coleta dos dados (início e\n",
        "final), além de particularidades (por exemplo, a coleta foi interrompida durante\n",
        "um período de tempo e depois retomada); \n",
        "        R: Conjunto de Dados do Câncer de Mama com 286 ocorrências de dados\n",
        "           reais de pacientes obtidos do Instituto de Oncologia de Ljubljana, \n",
        "           não se tem a informação sobre o período de coleta e como foi feita."
      ]
    },
    {
      "cell_type": "markdown",
      "metadata": {
        "id": "3g-ADlvr6Awm"
      },
      "source": [
        "* Quantos atributos (variáveis) possui e para cada um o tipo de atributo: nominal, real, discreto, além dos valores (ou faixa de valores); \n",
        "      R: 286 instâncias, 9 atributos, 10 contando com o class.\n"
      ]
    },
    {
      "cell_type": "markdown",
      "metadata": {
        "id": "TVuR6cN_5aU5"
      },
      "source": [
        ""
      ]
    },
    {
      "cell_type": "markdown",
      "metadata": {
        "id": "055K4qaH6GJw"
      },
      "source": [
        "\n",
        "* Indicar se existem informações já publicadas sobre seu uso e, em caso positivo, onde foi publicado, por quem, o quê; \n",
        "\n",
        "      R: \n",
        "      Publicações Relevantes:\n",
        "\n",
        "      Michalski,R.S., Mozetic,I., Hong,J., & Lavrac,N. (1986). \n",
        "      The Multi-Purpose Incremental Learning System AQ15 and its Testing \n",
        "      Application to Three Medical Domains. In Proceedings of the Fifth \n",
        "      National Conference on Artificial Intelligence, 1041-1045, Philadelphia, \n",
        "      PA: Morgan Kaufmann.\n",
        "\n",
        "      Clark,P. & Niblett,T. (1987). Induction in Noisy Domains. In Progress in\n",
        "       Machine Learning (from the Proceedings of the 2nd European Working \n",
        "       Session on Learning), 11-30, Bled, Yugoslavia: Sigma Press.\n",
        "\n",
        "      Tan, M., & Eshelman, L. (1988). Using weighted networks to represent \n",
        "      classification knowledge in noisy domains. Proceedings of the Fifth \n",
        "      International Conference on Machine Learning, 121-134, Ann Arbor, MI.\n",
        "\n",
        "      Cestnik,G., Konenenko,I, & Bratko,I. (1987). Assistant-86: A \n",
        "      Knowledge-Elicitation Tool for Sophisticated Users. In I.Bratko & N.\n",
        "      Lavrac (Eds.) Progress in Machine Learning, 31-45, Sigma Press.\n"
      ]
    },
    {
      "cell_type": "markdown",
      "metadata": {
        "id": "AWwmrRMz6Jmi"
      },
      "source": [
        "\n",
        "* Quantos exemplos existem para cada classe, no caso de classificação, ou a faixa de valores da variável a ser prevista no caso de regressão.\n",
        "\n",
        "R:\n",
        "![image.png](data:image/png;base64,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)"
      ]
    },
    {
      "cell_type": "code",
      "metadata": {
        "id": "Uz_0HHps38oB"
      },
      "source": [
        "df = pd.read_csv('https://archive.ics.uci.edu/ml/machine-learning-databases/breast-cancer/breast-cancer.data')"
      ],
      "execution_count": 3,
      "outputs": []
    },
    {
      "cell_type": "code",
      "metadata": {
        "colab": {
          "base_uri": "https://localhost:8080/",
          "height": 204
        },
        "id": "_sUbEpnf4ExP",
        "outputId": "397cb46b-f4ab-4a35-dba7-0e36ccc19f6d"
      },
      "source": [
        "df.head(5)"
      ],
      "execution_count": 4,
      "outputs": [
        {
          "output_type": "execute_result",
          "data": {
            "text/html": [
              "<div>\n",
              "<style scoped>\n",
              "    .dataframe tbody tr th:only-of-type {\n",
              "        vertical-align: middle;\n",
              "    }\n",
              "\n",
              "    .dataframe tbody tr th {\n",
              "        vertical-align: top;\n",
              "    }\n",
              "\n",
              "    .dataframe thead th {\n",
              "        text-align: right;\n",
              "    }\n",
              "</style>\n",
              "<table border=\"1\" class=\"dataframe\">\n",
              "  <thead>\n",
              "    <tr style=\"text-align: right;\">\n",
              "      <th></th>\n",
              "      <th>no-recurrence-events</th>\n",
              "      <th>30-39</th>\n",
              "      <th>premeno</th>\n",
              "      <th>30-34</th>\n",
              "      <th>0-2</th>\n",
              "      <th>no</th>\n",
              "      <th>3</th>\n",
              "      <th>left</th>\n",
              "      <th>left_low</th>\n",
              "      <th>no.1</th>\n",
              "    </tr>\n",
              "  </thead>\n",
              "  <tbody>\n",
              "    <tr>\n",
              "      <th>0</th>\n",
              "      <td>no-recurrence-events</td>\n",
              "      <td>40-49</td>\n",
              "      <td>premeno</td>\n",
              "      <td>20-24</td>\n",
              "      <td>0-2</td>\n",
              "      <td>no</td>\n",
              "      <td>2</td>\n",
              "      <td>right</td>\n",
              "      <td>right_up</td>\n",
              "      <td>no</td>\n",
              "    </tr>\n",
              "    <tr>\n",
              "      <th>1</th>\n",
              "      <td>no-recurrence-events</td>\n",
              "      <td>40-49</td>\n",
              "      <td>premeno</td>\n",
              "      <td>20-24</td>\n",
              "      <td>0-2</td>\n",
              "      <td>no</td>\n",
              "      <td>2</td>\n",
              "      <td>left</td>\n",
              "      <td>left_low</td>\n",
              "      <td>no</td>\n",
              "    </tr>\n",
              "    <tr>\n",
              "      <th>2</th>\n",
              "      <td>no-recurrence-events</td>\n",
              "      <td>60-69</td>\n",
              "      <td>ge40</td>\n",
              "      <td>15-19</td>\n",
              "      <td>0-2</td>\n",
              "      <td>no</td>\n",
              "      <td>2</td>\n",
              "      <td>right</td>\n",
              "      <td>left_up</td>\n",
              "      <td>no</td>\n",
              "    </tr>\n",
              "    <tr>\n",
              "      <th>3</th>\n",
              "      <td>no-recurrence-events</td>\n",
              "      <td>40-49</td>\n",
              "      <td>premeno</td>\n",
              "      <td>0-4</td>\n",
              "      <td>0-2</td>\n",
              "      <td>no</td>\n",
              "      <td>2</td>\n",
              "      <td>right</td>\n",
              "      <td>right_low</td>\n",
              "      <td>no</td>\n",
              "    </tr>\n",
              "    <tr>\n",
              "      <th>4</th>\n",
              "      <td>no-recurrence-events</td>\n",
              "      <td>60-69</td>\n",
              "      <td>ge40</td>\n",
              "      <td>15-19</td>\n",
              "      <td>0-2</td>\n",
              "      <td>no</td>\n",
              "      <td>2</td>\n",
              "      <td>left</td>\n",
              "      <td>left_low</td>\n",
              "      <td>no</td>\n",
              "    </tr>\n",
              "  </tbody>\n",
              "</table>\n",
              "</div>"
            ],
            "text/plain": [
              "   no-recurrence-events  30-39  premeno  30-34  ...  3   left   left_low no.1\n",
              "0  no-recurrence-events  40-49  premeno  20-24  ...  2  right   right_up   no\n",
              "1  no-recurrence-events  40-49  premeno  20-24  ...  2   left   left_low   no\n",
              "2  no-recurrence-events  60-69     ge40  15-19  ...  2  right    left_up   no\n",
              "3  no-recurrence-events  40-49  premeno    0-4  ...  2  right  right_low   no\n",
              "4  no-recurrence-events  60-69     ge40  15-19  ...  2   left   left_low   no\n",
              "\n",
              "[5 rows x 10 columns]"
            ]
          },
          "metadata": {},
          "execution_count": 4
        }
      ]
    },
    {
      "cell_type": "code",
      "metadata": {
        "colab": {
          "base_uri": "https://localhost:8080/"
        },
        "id": "TNrOVME48DIE",
        "outputId": "6977bc87-f1d5-4e60-e310-a6f2c4ecc179"
      },
      "source": [
        "df.dtypes"
      ],
      "execution_count": 5,
      "outputs": [
        {
          "output_type": "execute_result",
          "data": {
            "text/plain": [
              "no-recurrence-events    object\n",
              "30-39                   object\n",
              "premeno                 object\n",
              "30-34                   object\n",
              "0-2                     object\n",
              "no                      object\n",
              "3                        int64\n",
              "left                    object\n",
              "left_low                object\n",
              "no.1                    object\n",
              "dtype: object"
            ]
          },
          "metadata": {},
          "execution_count": 5
        }
      ]
    },
    {
      "cell_type": "code",
      "metadata": {
        "id": "0E5CrO3a8vvw"
      },
      "source": [
        "column_headers = ['Class', 'age', 'menopause', 'tumor-size', 'inv-nodes', 'node-caps', 'deg-malig', 'breast', 'breast-quad', 'irradiat']"
      ],
      "execution_count": 6,
      "outputs": []
    },
    {
      "cell_type": "code",
      "metadata": {
        "colab": {
          "base_uri": "https://localhost:8080/",
          "height": 204
        },
        "id": "osV8-zWv-f50",
        "outputId": "0a34ad18-cce6-484a-ce00-0d50c9b68679"
      },
      "source": [
        "df = pd.read_csv('https://archive.ics.uci.edu/ml/machine-learning-databases/breast-cancer/breast-cancer.data', header=None, names=column_headers)\n",
        "df.head(5)"
      ],
      "execution_count": 7,
      "outputs": [
        {
          "output_type": "execute_result",
          "data": {
            "text/html": [
              "<div>\n",
              "<style scoped>\n",
              "    .dataframe tbody tr th:only-of-type {\n",
              "        vertical-align: middle;\n",
              "    }\n",
              "\n",
              "    .dataframe tbody tr th {\n",
              "        vertical-align: top;\n",
              "    }\n",
              "\n",
              "    .dataframe thead th {\n",
              "        text-align: right;\n",
              "    }\n",
              "</style>\n",
              "<table border=\"1\" class=\"dataframe\">\n",
              "  <thead>\n",
              "    <tr style=\"text-align: right;\">\n",
              "      <th></th>\n",
              "      <th>Class</th>\n",
              "      <th>age</th>\n",
              "      <th>menopause</th>\n",
              "      <th>tumor-size</th>\n",
              "      <th>inv-nodes</th>\n",
              "      <th>node-caps</th>\n",
              "      <th>deg-malig</th>\n",
              "      <th>breast</th>\n",
              "      <th>breast-quad</th>\n",
              "      <th>irradiat</th>\n",
              "    </tr>\n",
              "  </thead>\n",
              "  <tbody>\n",
              "    <tr>\n",
              "      <th>0</th>\n",
              "      <td>no-recurrence-events</td>\n",
              "      <td>30-39</td>\n",
              "      <td>premeno</td>\n",
              "      <td>30-34</td>\n",
              "      <td>0-2</td>\n",
              "      <td>no</td>\n",
              "      <td>3</td>\n",
              "      <td>left</td>\n",
              "      <td>left_low</td>\n",
              "      <td>no</td>\n",
              "    </tr>\n",
              "    <tr>\n",
              "      <th>1</th>\n",
              "      <td>no-recurrence-events</td>\n",
              "      <td>40-49</td>\n",
              "      <td>premeno</td>\n",
              "      <td>20-24</td>\n",
              "      <td>0-2</td>\n",
              "      <td>no</td>\n",
              "      <td>2</td>\n",
              "      <td>right</td>\n",
              "      <td>right_up</td>\n",
              "      <td>no</td>\n",
              "    </tr>\n",
              "    <tr>\n",
              "      <th>2</th>\n",
              "      <td>no-recurrence-events</td>\n",
              "      <td>40-49</td>\n",
              "      <td>premeno</td>\n",
              "      <td>20-24</td>\n",
              "      <td>0-2</td>\n",
              "      <td>no</td>\n",
              "      <td>2</td>\n",
              "      <td>left</td>\n",
              "      <td>left_low</td>\n",
              "      <td>no</td>\n",
              "    </tr>\n",
              "    <tr>\n",
              "      <th>3</th>\n",
              "      <td>no-recurrence-events</td>\n",
              "      <td>60-69</td>\n",
              "      <td>ge40</td>\n",
              "      <td>15-19</td>\n",
              "      <td>0-2</td>\n",
              "      <td>no</td>\n",
              "      <td>2</td>\n",
              "      <td>right</td>\n",
              "      <td>left_up</td>\n",
              "      <td>no</td>\n",
              "    </tr>\n",
              "    <tr>\n",
              "      <th>4</th>\n",
              "      <td>no-recurrence-events</td>\n",
              "      <td>40-49</td>\n",
              "      <td>premeno</td>\n",
              "      <td>0-4</td>\n",
              "      <td>0-2</td>\n",
              "      <td>no</td>\n",
              "      <td>2</td>\n",
              "      <td>right</td>\n",
              "      <td>right_low</td>\n",
              "      <td>no</td>\n",
              "    </tr>\n",
              "  </tbody>\n",
              "</table>\n",
              "</div>"
            ],
            "text/plain": [
              "                  Class    age menopause  ... breast breast-quad irradiat\n",
              "0  no-recurrence-events  30-39   premeno  ...   left    left_low       no\n",
              "1  no-recurrence-events  40-49   premeno  ...  right    right_up       no\n",
              "2  no-recurrence-events  40-49   premeno  ...   left    left_low       no\n",
              "3  no-recurrence-events  60-69      ge40  ...  right     left_up       no\n",
              "4  no-recurrence-events  40-49   premeno  ...  right   right_low       no\n",
              "\n",
              "[5 rows x 10 columns]"
            ]
          },
          "metadata": {},
          "execution_count": 7
        }
      ]
    },
    {
      "cell_type": "code",
      "metadata": {
        "colab": {
          "base_uri": "https://localhost:8080/"
        },
        "id": "ov1rZ8agsgx5",
        "outputId": "92d04997-ff2a-481d-906d-a14165418159"
      },
      "source": [
        "df.info()"
      ],
      "execution_count": 8,
      "outputs": [
        {
          "output_type": "stream",
          "name": "stdout",
          "text": [
            "<class 'pandas.core.frame.DataFrame'>\n",
            "RangeIndex: 286 entries, 0 to 285\n",
            "Data columns (total 10 columns):\n",
            " #   Column       Non-Null Count  Dtype \n",
            "---  ------       --------------  ----- \n",
            " 0   Class        286 non-null    object\n",
            " 1   age          286 non-null    object\n",
            " 2   menopause    286 non-null    object\n",
            " 3   tumor-size   286 non-null    object\n",
            " 4   inv-nodes    286 non-null    object\n",
            " 5   node-caps    286 non-null    object\n",
            " 6   deg-malig    286 non-null    int64 \n",
            " 7   breast       286 non-null    object\n",
            " 8   breast-quad  286 non-null    object\n",
            " 9   irradiat     286 non-null    object\n",
            "dtypes: int64(1), object(9)\n",
            "memory usage: 22.5+ KB\n"
          ]
        }
      ]
    },
    {
      "cell_type": "code",
      "metadata": {
        "colab": {
          "base_uri": "https://localhost:8080/"
        },
        "id": "Egtp44gtuFeQ",
        "outputId": "a906acc1-aa03-41ef-fa8e-58dd94bb2ed7"
      },
      "source": [
        "#Valores faltantes representados como NaN\n",
        "df.isnull().mean()"
      ],
      "execution_count": 9,
      "outputs": [
        {
          "output_type": "execute_result",
          "data": {
            "text/plain": [
              "Class          0.0\n",
              "age            0.0\n",
              "menopause      0.0\n",
              "tumor-size     0.0\n",
              "inv-nodes      0.0\n",
              "node-caps      0.0\n",
              "deg-malig      0.0\n",
              "breast         0.0\n",
              "breast-quad    0.0\n",
              "irradiat       0.0\n",
              "dtype: float64"
            ]
          },
          "metadata": {},
          "execution_count": 9
        }
      ]
    },
    {
      "cell_type": "code",
      "metadata": {
        "id": "4tC5INXP-w9K",
        "colab": {
          "base_uri": "https://localhost:8080/",
          "height": 297
        },
        "outputId": "5681b9ae-2693-42e8-f36a-346feff8327e"
      },
      "source": [
        "df.describe()"
      ],
      "execution_count": 10,
      "outputs": [
        {
          "output_type": "execute_result",
          "data": {
            "text/html": [
              "<div>\n",
              "<style scoped>\n",
              "    .dataframe tbody tr th:only-of-type {\n",
              "        vertical-align: middle;\n",
              "    }\n",
              "\n",
              "    .dataframe tbody tr th {\n",
              "        vertical-align: top;\n",
              "    }\n",
              "\n",
              "    .dataframe thead th {\n",
              "        text-align: right;\n",
              "    }\n",
              "</style>\n",
              "<table border=\"1\" class=\"dataframe\">\n",
              "  <thead>\n",
              "    <tr style=\"text-align: right;\">\n",
              "      <th></th>\n",
              "      <th>deg-malig</th>\n",
              "    </tr>\n",
              "  </thead>\n",
              "  <tbody>\n",
              "    <tr>\n",
              "      <th>count</th>\n",
              "      <td>286.000000</td>\n",
              "    </tr>\n",
              "    <tr>\n",
              "      <th>mean</th>\n",
              "      <td>2.048951</td>\n",
              "    </tr>\n",
              "    <tr>\n",
              "      <th>std</th>\n",
              "      <td>0.738217</td>\n",
              "    </tr>\n",
              "    <tr>\n",
              "      <th>min</th>\n",
              "      <td>1.000000</td>\n",
              "    </tr>\n",
              "    <tr>\n",
              "      <th>25%</th>\n",
              "      <td>2.000000</td>\n",
              "    </tr>\n",
              "    <tr>\n",
              "      <th>50%</th>\n",
              "      <td>2.000000</td>\n",
              "    </tr>\n",
              "    <tr>\n",
              "      <th>75%</th>\n",
              "      <td>3.000000</td>\n",
              "    </tr>\n",
              "    <tr>\n",
              "      <th>max</th>\n",
              "      <td>3.000000</td>\n",
              "    </tr>\n",
              "  </tbody>\n",
              "</table>\n",
              "</div>"
            ],
            "text/plain": [
              "        deg-malig\n",
              "count  286.000000\n",
              "mean     2.048951\n",
              "std      0.738217\n",
              "min      1.000000\n",
              "25%      2.000000\n",
              "50%      2.000000\n",
              "75%      3.000000\n",
              "max      3.000000"
            ]
          },
          "metadata": {},
          "execution_count": 10
        }
      ]
    },
    {
      "cell_type": "markdown",
      "metadata": {
        "id": "AGDhEt8on5Nd"
      },
      "source": [
        "### Dados Faltantes"
      ]
    },
    {
      "cell_type": "code",
      "metadata": {
        "colab": {
          "base_uri": "https://localhost:8080/"
        },
        "id": "URj-3Pd9yiBb",
        "outputId": "5101f2bc-7105-4a80-ed74-482d1ff115bf"
      },
      "source": [
        "# Observando o conteúdo de cada atributo com Unique()\n",
        "df['Class'].unique()"
      ],
      "execution_count": 11,
      "outputs": [
        {
          "output_type": "execute_result",
          "data": {
            "text/plain": [
              "array(['no-recurrence-events', 'recurrence-events'], dtype=object)"
            ]
          },
          "metadata": {},
          "execution_count": 11
        }
      ]
    },
    {
      "cell_type": "code",
      "metadata": {
        "colab": {
          "base_uri": "https://localhost:8080/"
        },
        "id": "sBK2prRYzgHr",
        "outputId": "f9b281ba-9894-493f-93be-234d14627f99"
      },
      "source": [
        "df['age'].unique()"
      ],
      "execution_count": 12,
      "outputs": [
        {
          "output_type": "execute_result",
          "data": {
            "text/plain": [
              "array(['30-39', '40-49', '60-69', '50-59', '70-79', '20-29'], dtype=object)"
            ]
          },
          "metadata": {},
          "execution_count": 12
        }
      ]
    },
    {
      "cell_type": "code",
      "metadata": {
        "colab": {
          "base_uri": "https://localhost:8080/"
        },
        "id": "-MgpfKOX0GYN",
        "outputId": "d0410a69-a09d-4366-a916-aaff83c53649"
      },
      "source": [
        "df['menopause'].unique()"
      ],
      "execution_count": 13,
      "outputs": [
        {
          "output_type": "execute_result",
          "data": {
            "text/plain": [
              "array(['premeno', 'ge40', 'lt40'], dtype=object)"
            ]
          },
          "metadata": {},
          "execution_count": 13
        }
      ]
    },
    {
      "cell_type": "code",
      "metadata": {
        "colab": {
          "base_uri": "https://localhost:8080/"
        },
        "id": "r1EMR27A0Xpp",
        "outputId": "4db8d505-884f-4932-d1af-e2b119250a61"
      },
      "source": [
        "df['tumor-size'].unique()"
      ],
      "execution_count": 14,
      "outputs": [
        {
          "output_type": "execute_result",
          "data": {
            "text/plain": [
              "array(['30-34', '20-24', '15-19', '0-4', '25-29', '50-54', '10-14',\n",
              "       '40-44', '35-39', '5-9', '45-49'], dtype=object)"
            ]
          },
          "metadata": {},
          "execution_count": 14
        }
      ]
    },
    {
      "cell_type": "code",
      "metadata": {
        "colab": {
          "base_uri": "https://localhost:8080/"
        },
        "id": "jI1n3_1T2XWF",
        "outputId": "d90ae6f8-0632-4138-fdf8-cdbf6cf88213"
      },
      "source": [
        "df['inv-nodes'].unique()"
      ],
      "execution_count": 15,
      "outputs": [
        {
          "output_type": "execute_result",
          "data": {
            "text/plain": [
              "array(['0-2', '6-8', '9-11', '3-5', '15-17', '12-14', '24-26'],\n",
              "      dtype=object)"
            ]
          },
          "metadata": {},
          "execution_count": 15
        }
      ]
    },
    {
      "cell_type": "code",
      "metadata": {
        "colab": {
          "base_uri": "https://localhost:8080/"
        },
        "id": "XUmpIZKJ2yh6",
        "outputId": "455809c5-e1a9-4570-b8dd-8d8b20890039"
      },
      "source": [
        "df['node-caps'].unique()"
      ],
      "execution_count": 16,
      "outputs": [
        {
          "output_type": "execute_result",
          "data": {
            "text/plain": [
              "array(['no', 'yes', '?'], dtype=object)"
            ]
          },
          "metadata": {},
          "execution_count": 16
        }
      ]
    },
    {
      "cell_type": "code",
      "metadata": {
        "colab": {
          "base_uri": "https://localhost:8080/"
        },
        "id": "LDT4-md8z8Ev",
        "outputId": "a1d97e87-d8dd-471a-b06e-ff562e99466d"
      },
      "source": [
        "df['deg-malig'].unique()"
      ],
      "execution_count": 17,
      "outputs": [
        {
          "output_type": "execute_result",
          "data": {
            "text/plain": [
              "array([3, 2, 1])"
            ]
          },
          "metadata": {},
          "execution_count": 17
        }
      ]
    },
    {
      "cell_type": "code",
      "metadata": {
        "colab": {
          "base_uri": "https://localhost:8080/"
        },
        "id": "sAkZThHw5OJC",
        "outputId": "d4e02c39-d803-4874-adb6-19d69e93f454"
      },
      "source": [
        "df['breast'].unique()"
      ],
      "execution_count": 18,
      "outputs": [
        {
          "output_type": "execute_result",
          "data": {
            "text/plain": [
              "array(['left', 'right'], dtype=object)"
            ]
          },
          "metadata": {},
          "execution_count": 18
        }
      ]
    },
    {
      "cell_type": "code",
      "metadata": {
        "colab": {
          "base_uri": "https://localhost:8080/"
        },
        "id": "lOP2-S3B5Q9z",
        "outputId": "dc2b7dbf-9471-4f8c-9f74-6339339b008e"
      },
      "source": [
        "df['breast-quad'].unique()"
      ],
      "execution_count": 19,
      "outputs": [
        {
          "output_type": "execute_result",
          "data": {
            "text/plain": [
              "array(['left_low', 'right_up', 'left_up', 'right_low', 'central', '?'],\n",
              "      dtype=object)"
            ]
          },
          "metadata": {},
          "execution_count": 19
        }
      ]
    },
    {
      "cell_type": "code",
      "metadata": {
        "colab": {
          "base_uri": "https://localhost:8080/"
        },
        "id": "z77geh555bYj",
        "outputId": "8a4555c4-8edd-4b1e-f389-6967d64ff52f"
      },
      "source": [
        "df['irradiat'].unique()"
      ],
      "execution_count": 20,
      "outputs": [
        {
          "output_type": "execute_result",
          "data": {
            "text/plain": [
              "array(['no', 'yes'], dtype=object)"
            ]
          },
          "metadata": {},
          "execution_count": 20
        }
      ]
    },
    {
      "cell_type": "code",
      "metadata": {
        "colab": {
          "base_uri": "https://localhost:8080/"
        },
        "id": "j9lC7kww0Cp3",
        "outputId": "7e053063-77f6-4bf3-839f-1fef69c9ecdd"
      },
      "source": [
        "#Aplicando máscara para verificar a quantidade de dados \"?\" => Dados faltantes\n",
        "mask = df[df['breast-quad'] == '?'] == True\n",
        "mask.count"
      ],
      "execution_count": 21,
      "outputs": [
        {
          "output_type": "execute_result",
          "data": {
            "text/plain": [
              "<bound method DataFrame.count of      Class    age  menopause  ...  breast  breast-quad  irradiat\n",
              "206  False  False      False  ...   False        False     False\n",
              "\n",
              "[1 rows x 10 columns]>"
            ]
          },
          "metadata": {},
          "execution_count": 21
        }
      ]
    },
    {
      "cell_type": "code",
      "metadata": {
        "id": "VfqpP6hO3vHA",
        "colab": {
          "base_uri": "https://localhost:8080/"
        },
        "outputId": "60964e71-56c6-4610-c452-7358fe6f693c"
      },
      "source": [
        "mask2 = df[df['node-caps'] == '?'] == True\n",
        "mask2.count"
      ],
      "execution_count": 22,
      "outputs": [
        {
          "output_type": "execute_result",
          "data": {
            "text/plain": [
              "<bound method DataFrame.count of      Class    age  menopause  ...  breast  breast-quad  irradiat\n",
              "145  False  False      False  ...   False        False     False\n",
              "163  False  False      False  ...   False        False     False\n",
              "164  False  False      False  ...   False        False     False\n",
              "183  False  False      False  ...   False        False     False\n",
              "184  False  False      False  ...   False        False     False\n",
              "233  False  False      False  ...   False        False     False\n",
              "263  False  False      False  ...   False        False     False\n",
              "264  False  False      False  ...   False        False     False\n",
              "\n",
              "[8 rows x 10 columns]>"
            ]
          },
          "metadata": {},
          "execution_count": 22
        }
      ]
    },
    {
      "cell_type": "code",
      "metadata": {
        "id": "n5WQ4idbOAD7"
      },
      "source": [
        "#Substituir os '?' por valor nulo NaN\n",
        "df.replace('?', np.nan, inplace = True)"
      ],
      "execution_count": 23,
      "outputs": []
    },
    {
      "cell_type": "code",
      "metadata": {
        "colab": {
          "base_uri": "https://localhost:8080/"
        },
        "id": "YCnv4aemPJ9T",
        "outputId": "72be9a6d-0dc2-47ae-b266-8241b09909a4"
      },
      "source": [
        "#checando\n",
        "df['breast-quad'].unique()"
      ],
      "execution_count": 24,
      "outputs": [
        {
          "output_type": "execute_result",
          "data": {
            "text/plain": [
              "array(['left_low', 'right_up', 'left_up', 'right_low', 'central', nan],\n",
              "      dtype=object)"
            ]
          },
          "metadata": {},
          "execution_count": 24
        }
      ]
    },
    {
      "cell_type": "code",
      "metadata": {
        "colab": {
          "base_uri": "https://localhost:8080/"
        },
        "id": "Q7XJET44tsMW",
        "outputId": "d25c5cae-8496-47e0-99f4-469d66410c87"
      },
      "source": [
        "#Tabela com a quantificação dos valores nulos\n",
        "df.isnull().sum()"
      ],
      "execution_count": 25,
      "outputs": [
        {
          "output_type": "execute_result",
          "data": {
            "text/plain": [
              "Class          0\n",
              "age            0\n",
              "menopause      0\n",
              "tumor-size     0\n",
              "inv-nodes      0\n",
              "node-caps      8\n",
              "deg-malig      0\n",
              "breast         0\n",
              "breast-quad    1\n",
              "irradiat       0\n",
              "dtype: int64"
            ]
          },
          "metadata": {},
          "execution_count": 25
        }
      ]
    },
    {
      "cell_type": "code",
      "metadata": {
        "colab": {
          "base_uri": "https://localhost:8080/",
          "height": 419
        },
        "id": "AHJnf6noPWlL",
        "outputId": "cc15d768-ed25-4e18-baae-3b5da4b2f809"
      },
      "source": [
        "#Como são poucos dados faltantes, escolhemos dropar\n",
        "df.dropna()"
      ],
      "execution_count": 26,
      "outputs": [
        {
          "output_type": "execute_result",
          "data": {
            "text/html": [
              "<div>\n",
              "<style scoped>\n",
              "    .dataframe tbody tr th:only-of-type {\n",
              "        vertical-align: middle;\n",
              "    }\n",
              "\n",
              "    .dataframe tbody tr th {\n",
              "        vertical-align: top;\n",
              "    }\n",
              "\n",
              "    .dataframe thead th {\n",
              "        text-align: right;\n",
              "    }\n",
              "</style>\n",
              "<table border=\"1\" class=\"dataframe\">\n",
              "  <thead>\n",
              "    <tr style=\"text-align: right;\">\n",
              "      <th></th>\n",
              "      <th>Class</th>\n",
              "      <th>age</th>\n",
              "      <th>menopause</th>\n",
              "      <th>tumor-size</th>\n",
              "      <th>inv-nodes</th>\n",
              "      <th>node-caps</th>\n",
              "      <th>deg-malig</th>\n",
              "      <th>breast</th>\n",
              "      <th>breast-quad</th>\n",
              "      <th>irradiat</th>\n",
              "    </tr>\n",
              "  </thead>\n",
              "  <tbody>\n",
              "    <tr>\n",
              "      <th>0</th>\n",
              "      <td>no-recurrence-events</td>\n",
              "      <td>30-39</td>\n",
              "      <td>premeno</td>\n",
              "      <td>30-34</td>\n",
              "      <td>0-2</td>\n",
              "      <td>no</td>\n",
              "      <td>3</td>\n",
              "      <td>left</td>\n",
              "      <td>left_low</td>\n",
              "      <td>no</td>\n",
              "    </tr>\n",
              "    <tr>\n",
              "      <th>1</th>\n",
              "      <td>no-recurrence-events</td>\n",
              "      <td>40-49</td>\n",
              "      <td>premeno</td>\n",
              "      <td>20-24</td>\n",
              "      <td>0-2</td>\n",
              "      <td>no</td>\n",
              "      <td>2</td>\n",
              "      <td>right</td>\n",
              "      <td>right_up</td>\n",
              "      <td>no</td>\n",
              "    </tr>\n",
              "    <tr>\n",
              "      <th>2</th>\n",
              "      <td>no-recurrence-events</td>\n",
              "      <td>40-49</td>\n",
              "      <td>premeno</td>\n",
              "      <td>20-24</td>\n",
              "      <td>0-2</td>\n",
              "      <td>no</td>\n",
              "      <td>2</td>\n",
              "      <td>left</td>\n",
              "      <td>left_low</td>\n",
              "      <td>no</td>\n",
              "    </tr>\n",
              "    <tr>\n",
              "      <th>3</th>\n",
              "      <td>no-recurrence-events</td>\n",
              "      <td>60-69</td>\n",
              "      <td>ge40</td>\n",
              "      <td>15-19</td>\n",
              "      <td>0-2</td>\n",
              "      <td>no</td>\n",
              "      <td>2</td>\n",
              "      <td>right</td>\n",
              "      <td>left_up</td>\n",
              "      <td>no</td>\n",
              "    </tr>\n",
              "    <tr>\n",
              "      <th>4</th>\n",
              "      <td>no-recurrence-events</td>\n",
              "      <td>40-49</td>\n",
              "      <td>premeno</td>\n",
              "      <td>0-4</td>\n",
              "      <td>0-2</td>\n",
              "      <td>no</td>\n",
              "      <td>2</td>\n",
              "      <td>right</td>\n",
              "      <td>right_low</td>\n",
              "      <td>no</td>\n",
              "    </tr>\n",
              "    <tr>\n",
              "      <th>...</th>\n",
              "      <td>...</td>\n",
              "      <td>...</td>\n",
              "      <td>...</td>\n",
              "      <td>...</td>\n",
              "      <td>...</td>\n",
              "      <td>...</td>\n",
              "      <td>...</td>\n",
              "      <td>...</td>\n",
              "      <td>...</td>\n",
              "      <td>...</td>\n",
              "    </tr>\n",
              "    <tr>\n",
              "      <th>281</th>\n",
              "      <td>recurrence-events</td>\n",
              "      <td>30-39</td>\n",
              "      <td>premeno</td>\n",
              "      <td>30-34</td>\n",
              "      <td>0-2</td>\n",
              "      <td>no</td>\n",
              "      <td>2</td>\n",
              "      <td>left</td>\n",
              "      <td>left_up</td>\n",
              "      <td>no</td>\n",
              "    </tr>\n",
              "    <tr>\n",
              "      <th>282</th>\n",
              "      <td>recurrence-events</td>\n",
              "      <td>30-39</td>\n",
              "      <td>premeno</td>\n",
              "      <td>20-24</td>\n",
              "      <td>0-2</td>\n",
              "      <td>no</td>\n",
              "      <td>3</td>\n",
              "      <td>left</td>\n",
              "      <td>left_up</td>\n",
              "      <td>yes</td>\n",
              "    </tr>\n",
              "    <tr>\n",
              "      <th>283</th>\n",
              "      <td>recurrence-events</td>\n",
              "      <td>60-69</td>\n",
              "      <td>ge40</td>\n",
              "      <td>20-24</td>\n",
              "      <td>0-2</td>\n",
              "      <td>no</td>\n",
              "      <td>1</td>\n",
              "      <td>right</td>\n",
              "      <td>left_up</td>\n",
              "      <td>no</td>\n",
              "    </tr>\n",
              "    <tr>\n",
              "      <th>284</th>\n",
              "      <td>recurrence-events</td>\n",
              "      <td>40-49</td>\n",
              "      <td>ge40</td>\n",
              "      <td>30-34</td>\n",
              "      <td>3-5</td>\n",
              "      <td>no</td>\n",
              "      <td>3</td>\n",
              "      <td>left</td>\n",
              "      <td>left_low</td>\n",
              "      <td>no</td>\n",
              "    </tr>\n",
              "    <tr>\n",
              "      <th>285</th>\n",
              "      <td>recurrence-events</td>\n",
              "      <td>50-59</td>\n",
              "      <td>ge40</td>\n",
              "      <td>30-34</td>\n",
              "      <td>3-5</td>\n",
              "      <td>no</td>\n",
              "      <td>3</td>\n",
              "      <td>left</td>\n",
              "      <td>left_low</td>\n",
              "      <td>no</td>\n",
              "    </tr>\n",
              "  </tbody>\n",
              "</table>\n",
              "<p>277 rows × 10 columns</p>\n",
              "</div>"
            ],
            "text/plain": [
              "                    Class    age menopause  ... breast breast-quad irradiat\n",
              "0    no-recurrence-events  30-39   premeno  ...   left    left_low       no\n",
              "1    no-recurrence-events  40-49   premeno  ...  right    right_up       no\n",
              "2    no-recurrence-events  40-49   premeno  ...   left    left_low       no\n",
              "3    no-recurrence-events  60-69      ge40  ...  right     left_up       no\n",
              "4    no-recurrence-events  40-49   premeno  ...  right   right_low       no\n",
              "..                    ...    ...       ...  ...    ...         ...      ...\n",
              "281     recurrence-events  30-39   premeno  ...   left     left_up       no\n",
              "282     recurrence-events  30-39   premeno  ...   left     left_up      yes\n",
              "283     recurrence-events  60-69      ge40  ...  right     left_up       no\n",
              "284     recurrence-events  40-49      ge40  ...   left    left_low       no\n",
              "285     recurrence-events  50-59      ge40  ...   left    left_low       no\n",
              "\n",
              "[277 rows x 10 columns]"
            ]
          },
          "metadata": {},
          "execution_count": 26
        }
      ]
    },
    {
      "cell_type": "markdown",
      "metadata": {
        "id": "uG5n6stU7CKQ"
      },
      "source": [
        "## Transformação de dados"
      ]
    },
    {
      "cell_type": "markdown",
      "metadata": {
        "id": "wvH8MWf2wSY_"
      },
      "source": [
        "Codificação por Rotulação"
      ]
    },
    {
      "cell_type": "code",
      "metadata": {
        "id": "I9HtpgG8Jar2"
      },
      "source": [
        "#começar a transformação dos dados: substituir por 0 e 1 os que são possíveis ==> Codificação por Rotulação\n",
        "df.replace(to_replace=['yes', 'no'], value=[1, 0], inplace=True)"
      ],
      "execution_count": 27,
      "outputs": []
    },
    {
      "cell_type": "code",
      "metadata": {
        "colab": {
          "base_uri": "https://localhost:8080/",
          "height": 204
        },
        "id": "deMcnO5RMe3s",
        "outputId": "1e30fc79-7ff3-4fe0-9d31-ce9929531bd1"
      },
      "source": [
        "df.head(5)"
      ],
      "execution_count": 28,
      "outputs": [
        {
          "output_type": "execute_result",
          "data": {
            "text/html": [
              "<div>\n",
              "<style scoped>\n",
              "    .dataframe tbody tr th:only-of-type {\n",
              "        vertical-align: middle;\n",
              "    }\n",
              "\n",
              "    .dataframe tbody tr th {\n",
              "        vertical-align: top;\n",
              "    }\n",
              "\n",
              "    .dataframe thead th {\n",
              "        text-align: right;\n",
              "    }\n",
              "</style>\n",
              "<table border=\"1\" class=\"dataframe\">\n",
              "  <thead>\n",
              "    <tr style=\"text-align: right;\">\n",
              "      <th></th>\n",
              "      <th>Class</th>\n",
              "      <th>age</th>\n",
              "      <th>menopause</th>\n",
              "      <th>tumor-size</th>\n",
              "      <th>inv-nodes</th>\n",
              "      <th>node-caps</th>\n",
              "      <th>deg-malig</th>\n",
              "      <th>breast</th>\n",
              "      <th>breast-quad</th>\n",
              "      <th>irradiat</th>\n",
              "    </tr>\n",
              "  </thead>\n",
              "  <tbody>\n",
              "    <tr>\n",
              "      <th>0</th>\n",
              "      <td>no-recurrence-events</td>\n",
              "      <td>30-39</td>\n",
              "      <td>premeno</td>\n",
              "      <td>30-34</td>\n",
              "      <td>0-2</td>\n",
              "      <td>0.0</td>\n",
              "      <td>3</td>\n",
              "      <td>left</td>\n",
              "      <td>left_low</td>\n",
              "      <td>0</td>\n",
              "    </tr>\n",
              "    <tr>\n",
              "      <th>1</th>\n",
              "      <td>no-recurrence-events</td>\n",
              "      <td>40-49</td>\n",
              "      <td>premeno</td>\n",
              "      <td>20-24</td>\n",
              "      <td>0-2</td>\n",
              "      <td>0.0</td>\n",
              "      <td>2</td>\n",
              "      <td>right</td>\n",
              "      <td>right_up</td>\n",
              "      <td>0</td>\n",
              "    </tr>\n",
              "    <tr>\n",
              "      <th>2</th>\n",
              "      <td>no-recurrence-events</td>\n",
              "      <td>40-49</td>\n",
              "      <td>premeno</td>\n",
              "      <td>20-24</td>\n",
              "      <td>0-2</td>\n",
              "      <td>0.0</td>\n",
              "      <td>2</td>\n",
              "      <td>left</td>\n",
              "      <td>left_low</td>\n",
              "      <td>0</td>\n",
              "    </tr>\n",
              "    <tr>\n",
              "      <th>3</th>\n",
              "      <td>no-recurrence-events</td>\n",
              "      <td>60-69</td>\n",
              "      <td>ge40</td>\n",
              "      <td>15-19</td>\n",
              "      <td>0-2</td>\n",
              "      <td>0.0</td>\n",
              "      <td>2</td>\n",
              "      <td>right</td>\n",
              "      <td>left_up</td>\n",
              "      <td>0</td>\n",
              "    </tr>\n",
              "    <tr>\n",
              "      <th>4</th>\n",
              "      <td>no-recurrence-events</td>\n",
              "      <td>40-49</td>\n",
              "      <td>premeno</td>\n",
              "      <td>0-4</td>\n",
              "      <td>0-2</td>\n",
              "      <td>0.0</td>\n",
              "      <td>2</td>\n",
              "      <td>right</td>\n",
              "      <td>right_low</td>\n",
              "      <td>0</td>\n",
              "    </tr>\n",
              "  </tbody>\n",
              "</table>\n",
              "</div>"
            ],
            "text/plain": [
              "                  Class    age menopause  ... breast breast-quad  irradiat\n",
              "0  no-recurrence-events  30-39   premeno  ...   left    left_low         0\n",
              "1  no-recurrence-events  40-49   premeno  ...  right    right_up         0\n",
              "2  no-recurrence-events  40-49   premeno  ...   left    left_low         0\n",
              "3  no-recurrence-events  60-69      ge40  ...  right     left_up         0\n",
              "4  no-recurrence-events  40-49   premeno  ...  right   right_low         0\n",
              "\n",
              "[5 rows x 10 columns]"
            ]
          },
          "metadata": {},
          "execution_count": 28
        }
      ]
    },
    {
      "cell_type": "code",
      "metadata": {
        "id": "QgRNMi6tMr5K"
      },
      "source": [
        "#Transformação da classe: como também são dois valores inversos, dá para utilizar 0 e 1.\n",
        "df.replace(to_replace=['no-recurrence-events', 'recurrence-events'], value=[0, 1], inplace=True)"
      ],
      "execution_count": 29,
      "outputs": []
    },
    {
      "cell_type": "code",
      "metadata": {
        "colab": {
          "base_uri": "https://localhost:8080/",
          "height": 204
        },
        "id": "_KBvVA-iNBxR",
        "outputId": "6477156d-b832-401c-9c99-1e2acc71cb47"
      },
      "source": [
        "df.head(5)"
      ],
      "execution_count": 30,
      "outputs": [
        {
          "output_type": "execute_result",
          "data": {
            "text/html": [
              "<div>\n",
              "<style scoped>\n",
              "    .dataframe tbody tr th:only-of-type {\n",
              "        vertical-align: middle;\n",
              "    }\n",
              "\n",
              "    .dataframe tbody tr th {\n",
              "        vertical-align: top;\n",
              "    }\n",
              "\n",
              "    .dataframe thead th {\n",
              "        text-align: right;\n",
              "    }\n",
              "</style>\n",
              "<table border=\"1\" class=\"dataframe\">\n",
              "  <thead>\n",
              "    <tr style=\"text-align: right;\">\n",
              "      <th></th>\n",
              "      <th>Class</th>\n",
              "      <th>age</th>\n",
              "      <th>menopause</th>\n",
              "      <th>tumor-size</th>\n",
              "      <th>inv-nodes</th>\n",
              "      <th>node-caps</th>\n",
              "      <th>deg-malig</th>\n",
              "      <th>breast</th>\n",
              "      <th>breast-quad</th>\n",
              "      <th>irradiat</th>\n",
              "    </tr>\n",
              "  </thead>\n",
              "  <tbody>\n",
              "    <tr>\n",
              "      <th>0</th>\n",
              "      <td>0</td>\n",
              "      <td>30-39</td>\n",
              "      <td>premeno</td>\n",
              "      <td>30-34</td>\n",
              "      <td>0-2</td>\n",
              "      <td>0.0</td>\n",
              "      <td>3</td>\n",
              "      <td>left</td>\n",
              "      <td>left_low</td>\n",
              "      <td>0</td>\n",
              "    </tr>\n",
              "    <tr>\n",
              "      <th>1</th>\n",
              "      <td>0</td>\n",
              "      <td>40-49</td>\n",
              "      <td>premeno</td>\n",
              "      <td>20-24</td>\n",
              "      <td>0-2</td>\n",
              "      <td>0.0</td>\n",
              "      <td>2</td>\n",
              "      <td>right</td>\n",
              "      <td>right_up</td>\n",
              "      <td>0</td>\n",
              "    </tr>\n",
              "    <tr>\n",
              "      <th>2</th>\n",
              "      <td>0</td>\n",
              "      <td>40-49</td>\n",
              "      <td>premeno</td>\n",
              "      <td>20-24</td>\n",
              "      <td>0-2</td>\n",
              "      <td>0.0</td>\n",
              "      <td>2</td>\n",
              "      <td>left</td>\n",
              "      <td>left_low</td>\n",
              "      <td>0</td>\n",
              "    </tr>\n",
              "    <tr>\n",
              "      <th>3</th>\n",
              "      <td>0</td>\n",
              "      <td>60-69</td>\n",
              "      <td>ge40</td>\n",
              "      <td>15-19</td>\n",
              "      <td>0-2</td>\n",
              "      <td>0.0</td>\n",
              "      <td>2</td>\n",
              "      <td>right</td>\n",
              "      <td>left_up</td>\n",
              "      <td>0</td>\n",
              "    </tr>\n",
              "    <tr>\n",
              "      <th>4</th>\n",
              "      <td>0</td>\n",
              "      <td>40-49</td>\n",
              "      <td>premeno</td>\n",
              "      <td>0-4</td>\n",
              "      <td>0-2</td>\n",
              "      <td>0.0</td>\n",
              "      <td>2</td>\n",
              "      <td>right</td>\n",
              "      <td>right_low</td>\n",
              "      <td>0</td>\n",
              "    </tr>\n",
              "  </tbody>\n",
              "</table>\n",
              "</div>"
            ],
            "text/plain": [
              "   Class    age menopause tumor-size  ... deg-malig  breast  breast-quad irradiat\n",
              "0      0  30-39   premeno      30-34  ...         3    left     left_low        0\n",
              "1      0  40-49   premeno      20-24  ...         2   right     right_up        0\n",
              "2      0  40-49   premeno      20-24  ...         2    left     left_low        0\n",
              "3      0  60-69      ge40      15-19  ...         2   right      left_up        0\n",
              "4      0  40-49   premeno        0-4  ...         2   right    right_low        0\n",
              "\n",
              "[5 rows x 10 columns]"
            ]
          },
          "metadata": {},
          "execution_count": 30
        }
      ]
    },
    {
      "cell_type": "markdown",
      "metadata": {
        "id": "tNu-MrAYrO3j"
      },
      "source": [
        "One-hot encoding"
      ]
    },
    {
      "cell_type": "code",
      "metadata": {
        "colab": {
          "base_uri": "https://localhost:8080/"
        },
        "id": "gc1edV4rNHjB",
        "outputId": "6b6e9bab-c10b-4592-ac6e-0f2a091163bb"
      },
      "source": [
        "# Transformação: os demais dados nominais são todos de mesmo peso, então o ideal é utilizar get_dummies ==> One-hot encoding\n",
        "dfNumerico = pd.get_dummies(df, prefix_sep='_',drop_first=True)\n",
        "dfNumerico.dtypes"
      ],
      "execution_count": 31,
      "outputs": [
        {
          "output_type": "execute_result",
          "data": {
            "text/plain": [
              "Class                      int64\n",
              "node-caps                float64\n",
              "deg-malig                  int64\n",
              "irradiat                   int64\n",
              "age_30-39                  uint8\n",
              "age_40-49                  uint8\n",
              "age_50-59                  uint8\n",
              "age_60-69                  uint8\n",
              "age_70-79                  uint8\n",
              "menopause_lt40             uint8\n",
              "menopause_premeno          uint8\n",
              "tumor-size_10-14           uint8\n",
              "tumor-size_15-19           uint8\n",
              "tumor-size_20-24           uint8\n",
              "tumor-size_25-29           uint8\n",
              "tumor-size_30-34           uint8\n",
              "tumor-size_35-39           uint8\n",
              "tumor-size_40-44           uint8\n",
              "tumor-size_45-49           uint8\n",
              "tumor-size_5-9             uint8\n",
              "tumor-size_50-54           uint8\n",
              "inv-nodes_12-14            uint8\n",
              "inv-nodes_15-17            uint8\n",
              "inv-nodes_24-26            uint8\n",
              "inv-nodes_3-5              uint8\n",
              "inv-nodes_6-8              uint8\n",
              "inv-nodes_9-11             uint8\n",
              "breast_right               uint8\n",
              "breast-quad_left_low       uint8\n",
              "breast-quad_left_up        uint8\n",
              "breast-quad_right_low      uint8\n",
              "breast-quad_right_up       uint8\n",
              "dtype: object"
            ]
          },
          "metadata": {},
          "execution_count": 31
        }
      ]
    },
    {
      "cell_type": "code",
      "metadata": {
        "colab": {
          "base_uri": "https://localhost:8080/",
          "height": 314
        },
        "id": "RLIl1nOi5fbF",
        "outputId": "aa7a3875-098a-45e4-c6eb-2a73cf879436"
      },
      "source": [
        "df['age'].value_counts().plot.bar()\n",
        "plt.xlabel('idade') #legenda eixo x\n",
        "plt.ylabel('Num total pacientes') #legenda eixo y\n",
        "plt.title('Qtd de pacientes por idade')\n",
        "plt.show()"
      ],
      "execution_count": 32,
      "outputs": [
        {
          "output_type": "display_data",
          "data": {
            "image/png": "[encoded data removed]",
            "text/plain": [
              "<Figure size 432x288 with 1 Axes>"
            ]
          },
          "metadata": {
            "needs_background": "light"
          }
        }
      ]
    },
    {
      "cell_type": "markdown",
      "metadata": {
        "id": "z61hmHULQY2a"
      },
      "source": [
        "### Normalização dos dados - Padronização e escalamentos"
      ]
    },
    {
      "cell_type": "code",
      "metadata": {
        "id": "nW7MflijQXvz"
      },
      "source": [
        "#dropa a classe pra que ele possa prever ela\n",
        "features = np.array(dfNumerico.drop('Class', axis = 1))\n",
        "label = np.array(dfNumerico['Class'])\n",
        "\n",
        "#Normalizar os resultados\n",
        "scaler = MaxAbsScaler()\n",
        "scaler.fit(features)\n",
        "featuresNormalizado = scaler.transform(features)"
      ],
      "execution_count": 33,
      "outputs": []
    },
    {
      "cell_type": "markdown",
      "metadata": {
        "id": "ySHnfHFJQkT9"
      },
      "source": [
        "## Balanceamento dos dados"
      ]
    },
    {
      "cell_type": "code",
      "metadata": {
        "colab": {
          "base_uri": "https://localhost:8080/"
        },
        "id": "vkGr1a8jQgnm",
        "outputId": "5ef12280-2b41-41e9-88d9-32d0c300b228"
      },
      "source": [
        "#quantidade de dados na classe ==> Balanceamento?\n",
        "len(df[df['Class']== 0]), len(df[df['Class'] == 1])"
      ],
      "execution_count": 34,
      "outputs": [
        {
          "output_type": "execute_result",
          "data": {
            "text/plain": [
              "(201, 85)"
            ]
          },
          "metadata": {},
          "execution_count": 34
        }
      ]
    },
    {
      "cell_type": "code",
      "metadata": {
        "colab": {
          "base_uri": "https://localhost:8080/"
        },
        "id": "p-6Bn1TEhgWu",
        "outputId": "6a8ca82a-176f-4a32-8862-1bd1e378a2a1"
      },
      "source": [
        "#Porcentagem das classes\n",
        "df['Class'].value_counts() / len(df)"
      ],
      "execution_count": 35,
      "outputs": [
        {
          "output_type": "execute_result",
          "data": {
            "text/plain": [
              "0    0.702797\n",
              "1    0.297203\n",
              "Name: Class, dtype: float64"
            ]
          },
          "metadata": {},
          "execution_count": 35
        }
      ]
    },
    {
      "cell_type": "code",
      "metadata": {
        "colab": {
          "base_uri": "https://localhost:8080/",
          "height": 473
        },
        "id": "10BTHTcP2TEh",
        "outputId": "5cdff60a-3d22-4731-f088-163eb9731fa2"
      },
      "source": [
        "dfNumerico"
      ],
      "execution_count": 36,
      "outputs": [
        {
          "output_type": "execute_result",
          "data": {
            "text/html": [
              "<div>\n",
              "<style scoped>\n",
              "    .dataframe tbody tr th:only-of-type {\n",
              "        vertical-align: middle;\n",
              "    }\n",
              "\n",
              "    .dataframe tbody tr th {\n",
              "        vertical-align: top;\n",
              "    }\n",
              "\n",
              "    .dataframe thead th {\n",
              "        text-align: right;\n",
              "    }\n",
              "</style>\n",
              "<table border=\"1\" class=\"dataframe\">\n",
              "  <thead>\n",
              "    <tr style=\"text-align: right;\">\n",
              "      <th></th>\n",
              "      <th>Class</th>\n",
              "      <th>node-caps</th>\n",
              "      <th>deg-malig</th>\n",
              "      <th>irradiat</th>\n",
              "      <th>age_30-39</th>\n",
              "      <th>age_40-49</th>\n",
              "      <th>age_50-59</th>\n",
              "      <th>age_60-69</th>\n",
              "      <th>age_70-79</th>\n",
              "      <th>menopause_lt40</th>\n",
              "      <th>menopause_premeno</th>\n",
              "      <th>tumor-size_10-14</th>\n",
              "      <th>tumor-size_15-19</th>\n",
              "      <th>tumor-size_20-24</th>\n",
              "      <th>tumor-size_25-29</th>\n",
              "      <th>tumor-size_30-34</th>\n",
              "      <th>tumor-size_35-39</th>\n",
              "      <th>tumor-size_40-44</th>\n",
              "      <th>tumor-size_45-49</th>\n",
              "      <th>tumor-size_5-9</th>\n",
              "      <th>tumor-size_50-54</th>\n",
              "      <th>inv-nodes_12-14</th>\n",
              "      <th>inv-nodes_15-17</th>\n",
              "      <th>inv-nodes_24-26</th>\n",
              "      <th>inv-nodes_3-5</th>\n",
              "      <th>inv-nodes_6-8</th>\n",
              "      <th>inv-nodes_9-11</th>\n",
              "      <th>breast_right</th>\n",
              "      <th>breast-quad_left_low</th>\n",
              "      <th>breast-quad_left_up</th>\n",
              "      <th>breast-quad_right_low</th>\n",
              "      <th>breast-quad_right_up</th>\n",
              "    </tr>\n",
              "  </thead>\n",
              "  <tbody>\n",
              "    <tr>\n",
              "      <th>0</th>\n",
              "      <td>0</td>\n",
              "      <td>0.0</td>\n",
              "      <td>3</td>\n",
              "      <td>0</td>\n",
              "      <td>1</td>\n",
              "      <td>0</td>\n",
              "      <td>0</td>\n",
              "      <td>0</td>\n",
              "      <td>0</td>\n",
              "      <td>0</td>\n",
              "      <td>1</td>\n",
              "      <td>0</td>\n",
              "      <td>0</td>\n",
              "      <td>0</td>\n",
              "      <td>0</td>\n",
              "      <td>1</td>\n",
              "      <td>0</td>\n",
              "      <td>0</td>\n",
              "      <td>0</td>\n",
              "      <td>0</td>\n",
              "      <td>0</td>\n",
              "      <td>0</td>\n",
              "      <td>0</td>\n",
              "      <td>0</td>\n",
              "      <td>0</td>\n",
              "      <td>0</td>\n",
              "      <td>0</td>\n",
              "      <td>0</td>\n",
              "      <td>1</td>\n",
              "      <td>0</td>\n",
              "      <td>0</td>\n",
              "      <td>0</td>\n",
              "    </tr>\n",
              "    <tr>\n",
              "      <th>1</th>\n",
              "      <td>0</td>\n",
              "      <td>0.0</td>\n",
              "      <td>2</td>\n",
              "      <td>0</td>\n",
              "      <td>0</td>\n",
              "      <td>1</td>\n",
              "      <td>0</td>\n",
              "      <td>0</td>\n",
              "      <td>0</td>\n",
              "      <td>0</td>\n",
              "      <td>1</td>\n",
              "      <td>0</td>\n",
              "      <td>0</td>\n",
              "      <td>1</td>\n",
              "      <td>0</td>\n",
              "      <td>0</td>\n",
              "      <td>0</td>\n",
              "      <td>0</td>\n",
              "      <td>0</td>\n",
              "      <td>0</td>\n",
              "      <td>0</td>\n",
              "      <td>0</td>\n",
              "      <td>0</td>\n",
              "      <td>0</td>\n",
              "      <td>0</td>\n",
              "      <td>0</td>\n",
              "      <td>0</td>\n",
              "      <td>1</td>\n",
              "      <td>0</td>\n",
              "      <td>0</td>\n",
              "      <td>0</td>\n",
              "      <td>1</td>\n",
              "    </tr>\n",
              "    <tr>\n",
              "      <th>2</th>\n",
              "      <td>0</td>\n",
              "      <td>0.0</td>\n",
              "      <td>2</td>\n",
              "      <td>0</td>\n",
              "      <td>0</td>\n",
              "      <td>1</td>\n",
              "      <td>0</td>\n",
              "      <td>0</td>\n",
              "      <td>0</td>\n",
              "      <td>0</td>\n",
              "      <td>1</td>\n",
              "      <td>0</td>\n",
              "      <td>0</td>\n",
              "      <td>1</td>\n",
              "      <td>0</td>\n",
              "      <td>0</td>\n",
              "      <td>0</td>\n",
              "      <td>0</td>\n",
              "      <td>0</td>\n",
              "      <td>0</td>\n",
              "      <td>0</td>\n",
              "      <td>0</td>\n",
              "      <td>0</td>\n",
              "      <td>0</td>\n",
              "      <td>0</td>\n",
              "      <td>0</td>\n",
              "      <td>0</td>\n",
              "      <td>0</td>\n",
              "      <td>1</td>\n",
              "      <td>0</td>\n",
              "      <td>0</td>\n",
              "      <td>0</td>\n",
              "    </tr>\n",
              "    <tr>\n",
              "      <th>3</th>\n",
              "      <td>0</td>\n",
              "      <td>0.0</td>\n",
              "      <td>2</td>\n",
              "      <td>0</td>\n",
              "      <td>0</td>\n",
              "      <td>0</td>\n",
              "      <td>0</td>\n",
              "      <td>1</td>\n",
              "      <td>0</td>\n",
              "      <td>0</td>\n",
              "      <td>0</td>\n",
              "      <td>0</td>\n",
              "      <td>1</td>\n",
              "      <td>0</td>\n",
              "      <td>0</td>\n",
              "      <td>0</td>\n",
              "      <td>0</td>\n",
              "      <td>0</td>\n",
              "      <td>0</td>\n",
              "      <td>0</td>\n",
              "      <td>0</td>\n",
              "      <td>0</td>\n",
              "      <td>0</td>\n",
              "      <td>0</td>\n",
              "      <td>0</td>\n",
              "      <td>0</td>\n",
              "      <td>0</td>\n",
              "      <td>1</td>\n",
              "      <td>0</td>\n",
              "      <td>1</td>\n",
              "      <td>0</td>\n",
              "      <td>0</td>\n",
              "    </tr>\n",
              "    <tr>\n",
              "      <th>4</th>\n",
              "      <td>0</td>\n",
              "      <td>0.0</td>\n",
              "      <td>2</td>\n",
              "      <td>0</td>\n",
              "      <td>0</td>\n",
              "      <td>1</td>\n",
              "      <td>0</td>\n",
              "      <td>0</td>\n",
              "      <td>0</td>\n",
              "      <td>0</td>\n",
              "      <td>1</td>\n",
              "      <td>0</td>\n",
              "      <td>0</td>\n",
              "      <td>0</td>\n",
              "      <td>0</td>\n",
              "      <td>0</td>\n",
              "      <td>0</td>\n",
              "      <td>0</td>\n",
              "      <td>0</td>\n",
              "      <td>0</td>\n",
              "      <td>0</td>\n",
              "      <td>0</td>\n",
              "      <td>0</td>\n",
              "      <td>0</td>\n",
              "      <td>0</td>\n",
              "      <td>0</td>\n",
              "      <td>0</td>\n",
              "      <td>1</td>\n",
              "      <td>0</td>\n",
              "      <td>0</td>\n",
              "      <td>1</td>\n",
              "      <td>0</td>\n",
              "    </tr>\n",
              "    <tr>\n",
              "      <th>...</th>\n",
              "      <td>...</td>\n",
              "      <td>...</td>\n",
              "      <td>...</td>\n",
              "      <td>...</td>\n",
              "      <td>...</td>\n",
              "      <td>...</td>\n",
              "      <td>...</td>\n",
              "      <td>...</td>\n",
              "      <td>...</td>\n",
              "      <td>...</td>\n",
              "      <td>...</td>\n",
              "      <td>...</td>\n",
              "      <td>...</td>\n",
              "      <td>...</td>\n",
              "      <td>...</td>\n",
              "      <td>...</td>\n",
              "      <td>...</td>\n",
              "      <td>...</td>\n",
              "      <td>...</td>\n",
              "      <td>...</td>\n",
              "      <td>...</td>\n",
              "      <td>...</td>\n",
              "      <td>...</td>\n",
              "      <td>...</td>\n",
              "      <td>...</td>\n",
              "      <td>...</td>\n",
              "      <td>...</td>\n",
              "      <td>...</td>\n",
              "      <td>...</td>\n",
              "      <td>...</td>\n",
              "      <td>...</td>\n",
              "      <td>...</td>\n",
              "    </tr>\n",
              "    <tr>\n",
              "      <th>281</th>\n",
              "      <td>1</td>\n",
              "      <td>0.0</td>\n",
              "      <td>2</td>\n",
              "      <td>0</td>\n",
              "      <td>1</td>\n",
              "      <td>0</td>\n",
              "      <td>0</td>\n",
              "      <td>0</td>\n",
              "      <td>0</td>\n",
              "      <td>0</td>\n",
              "      <td>1</td>\n",
              "      <td>0</td>\n",
              "      <td>0</td>\n",
              "      <td>0</td>\n",
              "      <td>0</td>\n",
              "      <td>1</td>\n",
              "      <td>0</td>\n",
              "      <td>0</td>\n",
              "      <td>0</td>\n",
              "      <td>0</td>\n",
              "      <td>0</td>\n",
              "      <td>0</td>\n",
              "      <td>0</td>\n",
              "      <td>0</td>\n",
              "      <td>0</td>\n",
              "      <td>0</td>\n",
              "      <td>0</td>\n",
              "      <td>0</td>\n",
              "      <td>0</td>\n",
              "      <td>1</td>\n",
              "      <td>0</td>\n",
              "      <td>0</td>\n",
              "    </tr>\n",
              "    <tr>\n",
              "      <th>282</th>\n",
              "      <td>1</td>\n",
              "      <td>0.0</td>\n",
              "      <td>3</td>\n",
              "      <td>1</td>\n",
              "      <td>1</td>\n",
              "      <td>0</td>\n",
              "      <td>0</td>\n",
              "      <td>0</td>\n",
              "      <td>0</td>\n",
              "      <td>0</td>\n",
              "      <td>1</td>\n",
              "      <td>0</td>\n",
              "      <td>0</td>\n",
              "      <td>1</td>\n",
              "      <td>0</td>\n",
              "      <td>0</td>\n",
              "      <td>0</td>\n",
              "      <td>0</td>\n",
              "      <td>0</td>\n",
              "      <td>0</td>\n",
              "      <td>0</td>\n",
              "      <td>0</td>\n",
              "      <td>0</td>\n",
              "      <td>0</td>\n",
              "      <td>0</td>\n",
              "      <td>0</td>\n",
              "      <td>0</td>\n",
              "      <td>0</td>\n",
              "      <td>0</td>\n",
              "      <td>1</td>\n",
              "      <td>0</td>\n",
              "      <td>0</td>\n",
              "    </tr>\n",
              "    <tr>\n",
              "      <th>283</th>\n",
              "      <td>1</td>\n",
              "      <td>0.0</td>\n",
              "      <td>1</td>\n",
              "      <td>0</td>\n",
              "      <td>0</td>\n",
              "      <td>0</td>\n",
              "      <td>0</td>\n",
              "      <td>1</td>\n",
              "      <td>0</td>\n",
              "      <td>0</td>\n",
              "      <td>0</td>\n",
              "      <td>0</td>\n",
              "      <td>0</td>\n",
              "      <td>1</td>\n",
              "      <td>0</td>\n",
              "      <td>0</td>\n",
              "      <td>0</td>\n",
              "      <td>0</td>\n",
              "      <td>0</td>\n",
              "      <td>0</td>\n",
              "      <td>0</td>\n",
              "      <td>0</td>\n",
              "      <td>0</td>\n",
              "      <td>0</td>\n",
              "      <td>0</td>\n",
              "      <td>0</td>\n",
              "      <td>0</td>\n",
              "      <td>1</td>\n",
              "      <td>0</td>\n",
              "      <td>1</td>\n",
              "      <td>0</td>\n",
              "      <td>0</td>\n",
              "    </tr>\n",
              "    <tr>\n",
              "      <th>284</th>\n",
              "      <td>1</td>\n",
              "      <td>0.0</td>\n",
              "      <td>3</td>\n",
              "      <td>0</td>\n",
              "      <td>0</td>\n",
              "      <td>1</td>\n",
              "      <td>0</td>\n",
              "      <td>0</td>\n",
              "      <td>0</td>\n",
              "      <td>0</td>\n",
              "      <td>0</td>\n",
              "      <td>0</td>\n",
              "      <td>0</td>\n",
              "      <td>0</td>\n",
              "      <td>0</td>\n",
              "      <td>1</td>\n",
              "      <td>0</td>\n",
              "      <td>0</td>\n",
              "      <td>0</td>\n",
              "      <td>0</td>\n",
              "      <td>0</td>\n",
              "      <td>0</td>\n",
              "      <td>0</td>\n",
              "      <td>0</td>\n",
              "      <td>1</td>\n",
              "      <td>0</td>\n",
              "      <td>0</td>\n",
              "      <td>0</td>\n",
              "      <td>1</td>\n",
              "      <td>0</td>\n",
              "      <td>0</td>\n",
              "      <td>0</td>\n",
              "    </tr>\n",
              "    <tr>\n",
              "      <th>285</th>\n",
              "      <td>1</td>\n",
              "      <td>0.0</td>\n",
              "      <td>3</td>\n",
              "      <td>0</td>\n",
              "      <td>0</td>\n",
              "      <td>0</td>\n",
              "      <td>1</td>\n",
              "      <td>0</td>\n",
              "      <td>0</td>\n",
              "      <td>0</td>\n",
              "      <td>0</td>\n",
              "      <td>0</td>\n",
              "      <td>0</td>\n",
              "      <td>0</td>\n",
              "      <td>0</td>\n",
              "      <td>1</td>\n",
              "      <td>0</td>\n",
              "      <td>0</td>\n",
              "      <td>0</td>\n",
              "      <td>0</td>\n",
              "      <td>0</td>\n",
              "      <td>0</td>\n",
              "      <td>0</td>\n",
              "      <td>0</td>\n",
              "      <td>1</td>\n",
              "      <td>0</td>\n",
              "      <td>0</td>\n",
              "      <td>0</td>\n",
              "      <td>1</td>\n",
              "      <td>0</td>\n",
              "      <td>0</td>\n",
              "      <td>0</td>\n",
              "    </tr>\n",
              "  </tbody>\n",
              "</table>\n",
              "<p>286 rows × 32 columns</p>\n",
              "</div>"
            ],
            "text/plain": [
              "     Class  node-caps  ...  breast-quad_right_low  breast-quad_right_up\n",
              "0        0        0.0  ...                      0                     0\n",
              "1        0        0.0  ...                      0                     1\n",
              "2        0        0.0  ...                      0                     0\n",
              "3        0        0.0  ...                      0                     0\n",
              "4        0        0.0  ...                      1                     0\n",
              "..     ...        ...  ...                    ...                   ...\n",
              "281      1        0.0  ...                      0                     0\n",
              "282      1        0.0  ...                      0                     0\n",
              "283      1        0.0  ...                      0                     0\n",
              "284      1        0.0  ...                      0                     0\n",
              "285      1        0.0  ...                      0                     0\n",
              "\n",
              "[286 rows x 32 columns]"
            ]
          },
          "metadata": {},
          "execution_count": 36
        }
      ]
    },
    {
      "cell_type": "markdown",
      "metadata": {
        "id": "gQIDZ97v4ySM"
      },
      "source": [
        "##Dados Faltantes"
      ]
    },
    {
      "cell_type": "code",
      "metadata": {
        "id": "BUys0QSHMNau"
      },
      "source": [
        "#Tratar valores faltantes\n",
        "dfNumerico.fillna(dfNumerico.median(),inplace=True)"
      ],
      "execution_count": 37,
      "outputs": []
    },
    {
      "cell_type": "markdown",
      "metadata": {
        "id": "FTX_ocH85Bse"
      },
      "source": [
        "##Divisão base de treinamento e teste"
      ]
    },
    {
      "cell_type": "markdown",
      "metadata": {
        "id": "8nGYYbTPq_4w"
      },
      "source": [
        "Método Hold-out"
      ]
    },
    {
      "cell_type": "code",
      "metadata": {
        "id": "TYho2z851nBn"
      },
      "source": [
        "X = np.array(dfNumerico.drop('Class', axis = 1))\n",
        "y = np.array(dfNumerico['Class'])\n",
        "X_train, X_test, y_train, y_test = train_test_split(X, y, \n",
        "                                                    test_size=0.3, \n",
        "                                                    random_state=42, \n",
        "                                                    stratify=y)"
      ],
      "execution_count": 38,
      "outputs": []
    },
    {
      "cell_type": "code",
      "metadata": {
        "colab": {
          "base_uri": "https://localhost:8080/"
        },
        "id": "B4BjpgW3ng38",
        "outputId": "f7bcc04d-cf73-4e24-e137-b322a4ba61d2"
      },
      "source": [
        "# Frequencia de cada classe nos dados de teste \n",
        "pd.Series(y_test).value_counts() / len(y_test)"
      ],
      "execution_count": 39,
      "outputs": [
        {
          "output_type": "execute_result",
          "data": {
            "text/plain": [
              "0    0.697674\n",
              "1    0.302326\n",
              "dtype: float64"
            ]
          },
          "metadata": {},
          "execution_count": 39
        }
      ]
    },
    {
      "cell_type": "markdown",
      "metadata": {
        "id": "Z64iHtu67ja9"
      },
      "source": [
        "Validação cruzada"
      ]
    },
    {
      "cell_type": "code",
      "metadata": {
        "id": "Wm16F6_l7sAN"
      },
      "source": [
        "from sklearn.model_selection import cross_val_score"
      ],
      "execution_count": 40,
      "outputs": []
    },
    {
      "cell_type": "code",
      "metadata": {
        "id": "BJyQogwYISJH"
      },
      "source": [
        "#scores = cross_val_score(clf, iris.data, iris.target, cv=5, scoring='accuracy')"
      ],
      "execution_count": 41,
      "outputs": []
    },
    {
      "cell_type": "markdown",
      "metadata": {
        "id": "YT0AWPqn7c_u"
      },
      "source": [
        "Método LOOCV"
      ]
    },
    {
      "cell_type": "code",
      "metadata": {
        "id": "Q5va4nQv7sYO"
      },
      "source": [
        "from sklearn.model_selection import LeaveOneOut"
      ],
      "execution_count": 42,
      "outputs": []
    },
    {
      "cell_type": "code",
      "metadata": {
        "id": "2fT80JN-Ku3X"
      },
      "source": [
        ""
      ],
      "execution_count": 42,
      "outputs": []
    },
    {
      "cell_type": "code",
      "metadata": {
        "id": "5UMGVzJhKw2P"
      },
      "source": [
        ""
      ],
      "execution_count": 42,
      "outputs": []
    },
    {
      "cell_type": "markdown",
      "metadata": {
        "id": "2Hx0KhV4KxhK"
      },
      "source": [
        "### Checagem"
      ]
    },
    {
      "cell_type": "code",
      "metadata": {
        "colab": {
          "base_uri": "https://localhost:8080/"
        },
        "id": "j5wDZ86b4J0_",
        "outputId": "dc439f19-816f-46b9-f340-b4db6b0395d0"
      },
      "source": [
        "dfNumerico.isnull().mean()"
      ],
      "execution_count": 43,
      "outputs": [
        {
          "output_type": "execute_result",
          "data": {
            "text/plain": [
              "Class                    0.0\n",
              "node-caps                0.0\n",
              "deg-malig                0.0\n",
              "irradiat                 0.0\n",
              "age_30-39                0.0\n",
              "age_40-49                0.0\n",
              "age_50-59                0.0\n",
              "age_60-69                0.0\n",
              "age_70-79                0.0\n",
              "menopause_lt40           0.0\n",
              "menopause_premeno        0.0\n",
              "tumor-size_10-14         0.0\n",
              "tumor-size_15-19         0.0\n",
              "tumor-size_20-24         0.0\n",
              "tumor-size_25-29         0.0\n",
              "tumor-size_30-34         0.0\n",
              "tumor-size_35-39         0.0\n",
              "tumor-size_40-44         0.0\n",
              "tumor-size_45-49         0.0\n",
              "tumor-size_5-9           0.0\n",
              "tumor-size_50-54         0.0\n",
              "inv-nodes_12-14          0.0\n",
              "inv-nodes_15-17          0.0\n",
              "inv-nodes_24-26          0.0\n",
              "inv-nodes_3-5            0.0\n",
              "inv-nodes_6-8            0.0\n",
              "inv-nodes_9-11           0.0\n",
              "breast_right             0.0\n",
              "breast-quad_left_low     0.0\n",
              "breast-quad_left_up      0.0\n",
              "breast-quad_right_low    0.0\n",
              "breast-quad_right_up     0.0\n",
              "dtype: float64"
            ]
          },
          "metadata": {},
          "execution_count": 43
        }
      ]
    },
    {
      "cell_type": "markdown",
      "metadata": {
        "id": "aWIB-9K17SnX"
      },
      "source": [
        "## Balanceamento"
      ]
    },
    {
      "cell_type": "code",
      "metadata": {
        "id": "udoMOmp6Qm_O",
        "colab": {
          "base_uri": "https://localhost:8080/"
        },
        "outputId": "e9a3b690-6935-4f8b-efc6-9d09b87557ea"
      },
      "source": [
        "#Oversampling \n",
        "# Random Oversampling\n",
        "from imblearn.over_sampling import RandomOverSampler\n",
        "# SMOTE\n",
        "from imblearn.over_sampling import SMOTE"
      ],
      "execution_count": 44,
      "outputs": [
        {
          "output_type": "stream",
          "name": "stderr",
          "text": [
            "/usr/local/lib/python3.7/dist-packages/sklearn/externals/six.py:31: FutureWarning: The module is deprecated in version 0.21 and will be removed in version 0.23 since we've dropped support for Python 2.7. Please rely on the official version of six (https://pypi.org/project/six/).\n",
            "  \"(https://pypi.org/project/six/).\", FutureWarning)\n",
            "/usr/local/lib/python3.7/dist-packages/sklearn/utils/deprecation.py:144: FutureWarning: The sklearn.neighbors.base module is  deprecated in version 0.22 and will be removed in version 0.24. The corresponding classes / functions should instead be imported from sklearn.neighbors. Anything that cannot be imported from sklearn.neighbors is now part of the private API.\n",
            "  warnings.warn(message, FutureWarning)\n"
          ]
        }
      ]
    },
    {
      "cell_type": "code",
      "metadata": {
        "id": "iTX0jfj3maI7"
      },
      "source": [
        "samplers = {'RO': RandomOverSampler(),\n",
        "            'SMOTE': SMOTE()}"
      ],
      "execution_count": 45,
      "outputs": []
    },
    {
      "cell_type": "code",
      "metadata": {
        "id": "ZXAs0wW8vQfo",
        "colab": {
          "base_uri": "https://localhost:8080/"
        },
        "outputId": "d47fc6ad-744c-4231-9133-df1e52301bc5"
      },
      "source": [
        "for nome, tecnica in samplers.items():\n",
        "  # aplicar a tecnica apenas nos dados de TREINO\n",
        "  X_sampled, y_sampled = tecnica.fit_resample(X_train, y_train)\n",
        " \n",
        "  # treino o modelo\n",
        "  lr = LogisticRegression()\n",
        "  lr.fit(X_sampled, y_sampled)\n",
        "\n",
        "  # testo modelo\n",
        "  y_pred = lr.predict(X_test)\n",
        "\n",
        "  # reportar as metricas de avaliacao\n",
        "  acc = accuracy_score(y_test, y_pred)\n",
        "  report = classification_report(y_test, y_pred)\n",
        "\n",
        "  print(f'--- {nome} ---')\n",
        "  print(f'Tx de acerto = {100.0 * acc}')\n",
        "  print(f'Relatorio = \\n {report}')"
      ],
      "execution_count": 46,
      "outputs": [
        {
          "output_type": "stream",
          "name": "stdout",
          "text": [
            "--- RO ---\n",
            "Tx de acerto = 59.30232558139535\n",
            "Relatorio = \n",
            "               precision    recall  f1-score   support\n",
            "\n",
            "           0       0.74      0.65      0.69        60\n",
            "           1       0.36      0.46      0.41        26\n",
            "\n",
            "    accuracy                           0.59        86\n",
            "   macro avg       0.55      0.56      0.55        86\n",
            "weighted avg       0.62      0.59      0.60        86\n",
            "\n",
            "--- SMOTE ---\n",
            "Tx de acerto = 56.97674418604651\n",
            "Relatorio = \n",
            "               precision    recall  f1-score   support\n",
            "\n",
            "           0       0.73      0.60      0.66        60\n",
            "           1       0.35      0.50      0.41        26\n",
            "\n",
            "    accuracy                           0.57        86\n",
            "   macro avg       0.54      0.55      0.54        86\n",
            "weighted avg       0.62      0.57      0.59        86\n",
            "\n"
          ]
        },
        {
          "output_type": "stream",
          "name": "stderr",
          "text": [
            "/usr/local/lib/python3.7/dist-packages/sklearn/utils/deprecation.py:87: FutureWarning: Function safe_indexing is deprecated; safe_indexing is deprecated in version 0.22 and will be removed in version 0.24.\n",
            "  warnings.warn(msg, category=FutureWarning)\n",
            "/usr/local/lib/python3.7/dist-packages/sklearn/utils/deprecation.py:87: FutureWarning: Function safe_indexing is deprecated; safe_indexing is deprecated in version 0.22 and will be removed in version 0.24.\n",
            "  warnings.warn(msg, category=FutureWarning)\n"
          ]
        }
      ]
    },
    {
      "cell_type": "code",
      "metadata": {
        "id": "EyBKfbHf224X",
        "colab": {
          "base_uri": "https://localhost:8080/"
        },
        "outputId": "8de1f892-6851-4e63-8160-cadc875f9b91"
      },
      "source": [
        "from sklearn.metrics import confusion_matrix\n",
        "cm = confusion_matrix(y_test, y_pred)\n",
        "cm"
      ],
      "execution_count": 47,
      "outputs": [
        {
          "output_type": "execute_result",
          "data": {
            "text/plain": [
              "array([[36, 24],\n",
              "       [13, 13]])"
            ]
          },
          "metadata": {},
          "execution_count": 47
        }
      ]
    },
    {
      "cell_type": "markdown",
      "metadata": {
        "id": "ggNeIKMsHwOR"
      },
      "source": [
        "## Visualização de Dados"
      ]
    },
    {
      "cell_type": "code",
      "metadata": {
        "id": "dSqRqLNBMtP6"
      },
      "source": [
        "#Class        286 non-null    object\n",
        " #1   age          286 non-null    object\n",
        " #2   menopause    286 non-null    object\n",
        " #3   tumor-size   286 non-null    object\n",
        " #4   inv-nodes    286 non-null    object\n",
        " #5   node-caps    286 non-null    object\n",
        " #6   deg-malig    286 non-null    int64 \n",
        " #7   breast       286 non-null    object\n",
        " #8   breast-quad  286 non-null    object\n",
        " #9   irradiat "
      ],
      "execution_count": null,
      "outputs": []
    },
    {
      "cell_type": "code",
      "metadata": {
        "colab": {
          "base_uri": "https://localhost:8080/",
          "height": 297
        },
        "id": "KKuE-O5cKA4e",
        "outputId": "e64ced54-401c-4c1e-bba2-0e837168e275"
      },
      "source": [
        "# A diferença do primeiro describe para esse foram as transformações feitas com o replace, porém a única classe com valores representativos inteiros \n",
        "# é a 'deg-malig', as demais são binárias \n",
        "df.describe()"
      ],
      "execution_count": 50,
      "outputs": [
        {
          "output_type": "execute_result",
          "data": {
            "text/html": [
              "<div>\n",
              "<style scoped>\n",
              "    .dataframe tbody tr th:only-of-type {\n",
              "        vertical-align: middle;\n",
              "    }\n",
              "\n",
              "    .dataframe tbody tr th {\n",
              "        vertical-align: top;\n",
              "    }\n",
              "\n",
              "    .dataframe thead th {\n",
              "        text-align: right;\n",
              "    }\n",
              "</style>\n",
              "<table border=\"1\" class=\"dataframe\">\n",
              "  <thead>\n",
              "    <tr style=\"text-align: right;\">\n",
              "      <th></th>\n",
              "      <th>Class</th>\n",
              "      <th>node-caps</th>\n",
              "      <th>deg-malig</th>\n",
              "      <th>irradiat</th>\n",
              "    </tr>\n",
              "  </thead>\n",
              "  <tbody>\n",
              "    <tr>\n",
              "      <th>count</th>\n",
              "      <td>286.000000</td>\n",
              "      <td>278.000000</td>\n",
              "      <td>286.000000</td>\n",
              "      <td>286.000000</td>\n",
              "    </tr>\n",
              "    <tr>\n",
              "      <th>mean</th>\n",
              "      <td>0.297203</td>\n",
              "      <td>0.201439</td>\n",
              "      <td>2.048951</td>\n",
              "      <td>0.237762</td>\n",
              "    </tr>\n",
              "    <tr>\n",
              "      <th>std</th>\n",
              "      <td>0.457828</td>\n",
              "      <td>0.401798</td>\n",
              "      <td>0.738217</td>\n",
              "      <td>0.426459</td>\n",
              "    </tr>\n",
              "    <tr>\n",
              "      <th>min</th>\n",
              "      <td>0.000000</td>\n",
              "      <td>0.000000</td>\n",
              "      <td>1.000000</td>\n",
              "      <td>0.000000</td>\n",
              "    </tr>\n",
              "    <tr>\n",
              "      <th>25%</th>\n",
              "      <td>0.000000</td>\n",
              "      <td>0.000000</td>\n",
              "      <td>2.000000</td>\n",
              "      <td>0.000000</td>\n",
              "    </tr>\n",
              "    <tr>\n",
              "      <th>50%</th>\n",
              "      <td>0.000000</td>\n",
              "      <td>0.000000</td>\n",
              "      <td>2.000000</td>\n",
              "      <td>0.000000</td>\n",
              "    </tr>\n",
              "    <tr>\n",
              "      <th>75%</th>\n",
              "      <td>1.000000</td>\n",
              "      <td>0.000000</td>\n",
              "      <td>3.000000</td>\n",
              "      <td>0.000000</td>\n",
              "    </tr>\n",
              "    <tr>\n",
              "      <th>max</th>\n",
              "      <td>1.000000</td>\n",
              "      <td>1.000000</td>\n",
              "      <td>3.000000</td>\n",
              "      <td>1.000000</td>\n",
              "    </tr>\n",
              "  </tbody>\n",
              "</table>\n",
              "</div>"
            ],
            "text/plain": [
              "            Class   node-caps   deg-malig    irradiat\n",
              "count  286.000000  278.000000  286.000000  286.000000\n",
              "mean     0.297203    0.201439    2.048951    0.237762\n",
              "std      0.457828    0.401798    0.738217    0.426459\n",
              "min      0.000000    0.000000    1.000000    0.000000\n",
              "25%      0.000000    0.000000    2.000000    0.000000\n",
              "50%      0.000000    0.000000    2.000000    0.000000\n",
              "75%      1.000000    0.000000    3.000000    0.000000\n",
              "max      1.000000    1.000000    3.000000    1.000000"
            ]
          },
          "metadata": {},
          "execution_count": 50
        }
      ]
    },
    {
      "cell_type": "code",
      "metadata": {
        "colab": {
          "base_uri": "https://localhost:8080/",
          "height": 314
        },
        "id": "sb4thGi2HUA5",
        "outputId": "9b94ddcf-6b14-47b4-eadf-92a94a49ac94"
      },
      "source": [
        "df['age'].value_counts().plot.bar()\n",
        "plt.xlabel('idade') #legenda eixo x\n",
        "plt.ylabel('Num total pacientes') #legenda eixo y\n",
        "plt.title('Qtd de pacientes por idade')\n",
        "plt.show()"
      ],
      "execution_count": 48,
      "outputs": [
        {
          "output_type": "display_data",
          "data": {
            "image/png": "[encoded data removed]",
            "text/plain": [
              "<Figure size 432x288 with 1 Axes>"
            ]
          },
          "metadata": {
            "needs_background": "light"
          }
        }
      ]
    },
    {
      "cell_type": "code",
      "metadata": {
        "colab": {
          "base_uri": "https://localhost:8080/",
          "height": 333
        },
        "id": "ipcMBFruxfDc",
        "outputId": "558aa0ad-777a-4bb7-82f8-98a1ba7c73b2"
      },
      "source": [
        "sns.countplot(df['deg-malig'])\n",
        "plt.show()"
      ],
      "execution_count": 49,
      "outputs": [
        {
          "output_type": "stream",
          "name": "stderr",
          "text": [
            "/usr/local/lib/python3.7/dist-packages/seaborn/_decorators.py:43: FutureWarning: Pass the following variable as a keyword arg: x. From version 0.12, the only valid positional argument will be `data`, and passing other arguments without an explicit keyword will result in an error or misinterpretation.\n",
            "  FutureWarning\n"
          ]
        },
        {
          "output_type": "display_data",
          "data": {
            "image/png": "[encoded data removed]",
            "text/plain": [
              "<Figure size 432x288 with 1 Axes>"
            ]
          },
          "metadata": {
            "needs_background": "light"
          }
        }
      ]
    },
    {
      "cell_type": "code",
      "metadata": {
        "id": "DECqSy8JHy4Q",
        "colab": {
          "base_uri": "https://localhost:8080/",
          "height": 292
        },
        "outputId": "0883c112-5f5f-4c1a-d3c4-4151f7edac07"
      },
      "source": [
        "# Contagem de reincidência (Nossa classe)\n",
        "df['Class'].value_counts().plot.bar(edgecolor=\"black\")\n",
        "plt.xlabel('Não reincidência x Reincidência')\n",
        "plt.ylabel('Num total pacientes')\n",
        "plt.title('Quantidade de Reincidentes')\n",
        "plt.show()"
      ],
      "execution_count": 52,
      "outputs": [
        {
          "output_type": "display_data",
          "data": {
            "image/png": "[encoded data removed]",
            "text/plain": [
              "<Figure size 432x288 with 1 Axes>"
            ]
          },
          "metadata": {
            "needs_background": "light"
          }
        }
      ]
    },
    {
      "cell_type": "code",
      "metadata": {
        "colab": {
          "base_uri": "https://localhost:8080/",
          "height": 281
        },
        "id": "aFE9ea9aK9uq",
        "outputId": "3f4267f3-70a8-46da-c522-30608b1d1b6f"
      },
      "source": [
        "ctab = 100 * pd.crosstab(df['age'], df['Class'], normalize='columns')\n",
        "sns.heatmap(ctab, annot=True, fmt='g')\n",
        "plt.show()"
      ],
      "execution_count": 54,
      "outputs": [
        {
          "output_type": "display_data",
          "data": {
            "image/png": "[encoded data removed]",
            "text/plain": [
              "<Figure size 432x288 with 2 Axes>"
            ]
          },
          "metadata": {
            "needs_background": "light"
          }
        }
      ]
    },
    {
      "cell_type": "markdown",
      "metadata": {
        "id": "5oKSOYzgMXDw"
      },
      "source": [
        "É possível observar que acontece a maior porcentagem de recorrência na faixa entre 40-49 anos, enquanto a menor ocorre entre os pacientes mais velhos (70-79, lembrando que essa faixa etária tem uma distribuição menor de dados)"
      ]
    },
    {
      "cell_type": "code",
      "metadata": {
        "colab": {
          "base_uri": "https://localhost:8080/",
          "height": 283
        },
        "id": "NAk12_UuMCu7",
        "outputId": "bd75611a-66a0-470b-dcb6-0c159f7ec4bf"
      },
      "source": [
        "ctab = 100 * pd.crosstab(df['Class'], df['age'], normalize='columns')\n",
        "sns.heatmap(ctab, annot=True, fmt='g')\n",
        "plt.show()"
      ],
      "execution_count": 55,
      "outputs": [
        {
          "output_type": "display_data",
          "data": {
            "image/png": "[encoded data removed]",
            "text/plain": [
              "<Figure size 432x288 with 2 Axes>"
            ]
          },
          "metadata": {
            "needs_background": "light"
          }
        }
      ]
    },
    {
      "cell_type": "markdown",
      "metadata": {
        "id": "WuZUVQv5NSw1"
      },
      "source": [
        "Comparando a porcentagem em cada uma das faixas etárias separadamente observa-se que a faixa 30-39 anos apresenta o resultado com maior recorrência da presença do câncer. Isso também pode estar relacionado com a conduta de tratamento tomada em cada faixa etária ser diferente. Mulheres com mais de 3 filhos e em fase de menopausa que apresentar tumores mamários é recomendada a retirada total das mamas, diminuindo a chance de reincidência do câncer pela retirada do tecido."
      ]
    },
    {
      "cell_type": "code",
      "metadata": {
        "colab": {
          "base_uri": "https://localhost:8080/",
          "height": 279
        },
        "id": "S9DrFlA5Qc22",
        "outputId": "2521972e-a646-4295-fb76-b416a543320a"
      },
      "source": [
        "ctab = 100 * pd.crosstab(df['menopause'], df['Class'], normalize='columns')\n",
        "sns.heatmap(ctab, annot=True, fmt='g')\n",
        "plt.show()"
      ],
      "execution_count": 60,
      "outputs": [
        {
          "output_type": "display_data",
          "data": {
            "image/png": "[encoded data removed]",
            "text/plain": [
              "<Figure size 432x288 with 2 Axes>"
            ]
          },
          "metadata": {
            "needs_background": "light"
          }
        }
      ]
    },
    {
      "cell_type": "markdown",
      "metadata": {
        "id": "g5irhSBtQ6Vh"
      },
      "source": [
        "Aparentemente há uma similaridade de comportamento entre os grupos com e sem recorrência quando se trata de mulheres estando ou não na menopausa. O que parece influenciar mais é a idade em si, e não a menopausa."
      ]
    },
    {
      "cell_type": "code",
      "metadata": {
        "colab": {
          "base_uri": "https://localhost:8080/",
          "height": 283
        },
        "id": "9smxJ_0QNRAN",
        "outputId": "78f81eec-7853-4bf6-bc3e-78ab69b42866"
      },
      "source": [
        "ctab = 100 * pd.crosstab(df['Class'], df['inv-nodes'], normalize='columns')\n",
        "sns.heatmap(ctab, annot=True, fmt='g')\n",
        "plt.show()"
      ],
      "execution_count": 57,
      "outputs": [
        {
          "output_type": "display_data",
          "data": {
            "image/png": "[encoded data removed]",
            "text/plain": [
              "<Figure size 432x288 with 2 Axes>"
            ]
          },
          "metadata": {
            "needs_background": "light"
          }
        }
      ]
    },
    {
      "cell_type": "code",
      "metadata": {
        "colab": {
          "base_uri": "https://localhost:8080/",
          "height": 279
        },
        "id": "ldaXP6RZQHn_",
        "outputId": "ee69ec33-1b13-4e85-c354-a077f07f1e50"
      },
      "source": [
        "ctab = 100 * pd.crosstab(df['Class'], df['breast'], normalize='columns')\n",
        "sns.heatmap(ctab, annot=True, fmt='g')\n",
        "plt.show()"
      ],
      "execution_count": 58,
      "outputs": [
        {
          "output_type": "display_data",
          "data": {
            "image/png": "[encoded data removed]",
            "text/plain": [
              "<Figure size 432x288 with 2 Axes>"
            ]
          },
          "metadata": {
            "needs_background": "light"
          }
        }
      ]
    },
    {
      "cell_type": "code",
      "metadata": {
        "colab": {
          "base_uri": "https://localhost:8080/",
          "height": 129
        },
        "id": "K7gNCdi6QpXl",
        "outputId": "7bf9ca10-f468-4a17-c8ca-e475907084ab"
      },
      "source": [
        ""
      ],
      "execution_count": 61,
      "outputs": [
        {
          "output_type": "error",
          "ename": "SyntaxError",
          "evalue": "ignored",
          "traceback": [
            "\u001b[0;36m  File \u001b[0;32m\"<ipython-input-61-12dc0d25e9d5>\"\u001b[0;36m, line \u001b[0;32m1\u001b[0m\n\u001b[0;31m    git remote add origin https://github.com/JessicaIlkiw/Projetos-p-sgrad.git\u001b[0m\n\u001b[0m             ^\u001b[0m\n\u001b[0;31mSyntaxError\u001b[0m\u001b[0;31m:\u001b[0m invalid syntax\n"
          ]
        }
      ]
    },
    {
      "cell_type": "code",
      "metadata": {
        "id": "pYPCejIATe7T"
      },
      "source": [
        ""
      ],
      "execution_count": null,
      "outputs": []
    }
  ]
}